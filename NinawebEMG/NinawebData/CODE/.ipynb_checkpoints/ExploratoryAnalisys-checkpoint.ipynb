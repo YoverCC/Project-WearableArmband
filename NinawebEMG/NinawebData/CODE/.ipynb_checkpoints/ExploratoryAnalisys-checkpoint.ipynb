{
 "cells": [
  {
   "cell_type": "markdown",
   "metadata": {},
   "source": [
    "# 1. LIBRERIAS"
   ]
  },
  {
   "cell_type": "code",
   "execution_count": 2,
   "metadata": {},
   "outputs": [],
   "source": [
    "import os\n",
    "import pandas as pd\n",
    "import numpy as np\n",
    "import matplotlib.pyplot as plt\n",
    "import warnings\n",
    "warnings.filterwarnings(\"ignore\")\n",
    "import matplotlib.gridspec as gridspec\n",
    "import seaborn as sns\n"
   ]
  },
  {
   "cell_type": "markdown",
   "metadata": {},
   "source": [
    "# 2. DATA "
   ]
  },
  {
   "cell_type": "code",
   "execution_count": 3,
   "metadata": {},
   "outputs": [],
   "source": [
    "data_total=pd.read_csv('data_electrodos.csv')"
   ]
  },
  {
   "cell_type": "code",
   "execution_count": null,
   "metadata": {},
   "outputs": [],
   "source": [
    "data_estimulos = pd.read_csv('data_estimulos.csv')"
   ]
  },
  {
   "cell_type": "markdown",
   "metadata": {},
   "source": [
    "**DIMENSIONES**\n",
    "\n",
    "data_total es de dimension 1380 x 16, correspondientes a las 1380 señales temporales de los 16 electrodos\n",
    "\n",
    "data_estimulos es de dimension 1380 x 2, correspondientes a los indices y a la etiqueta del estimulos"
   ]
  },
  {
   "cell_type": "code",
   "execution_count": 166,
   "metadata": {},
   "outputs": [
    {
     "data": {
      "text/plain": [
       "830"
      ]
     },
     "execution_count": 166,
     "metadata": {},
     "output_type": "execute_result"
    }
   ],
   "source": [
    "len(data_total['0'][0])"
   ]
  },
  {
   "cell_type": "code",
   "execution_count": 6,
   "metadata": {},
   "outputs": [
    {
     "data": {
      "text/plain": [
       "1380"
      ]
     },
     "execution_count": 6,
     "metadata": {},
     "output_type": "execute_result"
    }
   ],
   "source": [
    "len(data_estimulos)"
   ]
  },
  {
   "cell_type": "code",
   "execution_count": 178,
   "metadata": {},
   "outputs": [],
   "source": [
    "data = data_total.values.copy()\n",
    "data.resize(1380,16)\n",
    "data = pd.DataFrame(data)"
   ]
  },
  {
   "cell_type": "code",
   "execution_count": 185,
   "metadata": {},
   "outputs": [],
   "source": [
    "data[0][0] = data_total['0'][0]"
   ]
  },
  {
   "cell_type": "code",
   "execution_count": 187,
   "metadata": {},
   "outputs": [
    {
     "data": {
      "text/plain": [
       "830"
      ]
     },
     "execution_count": 187,
     "metadata": {},
     "output_type": "execute_result"
    }
   ],
   "source": [
    "len(data[0][0]) # data[electrodo][index]"
   ]
  },
  {
   "cell_type": "code",
   "execution_count": 82,
   "metadata": {},
   "outputs": [],
   "source": [
    "label = data_estimulos.values.copy()\n",
    "label.resize(1380,2)\n",
    "label = pd.DataFrame(label)\n",
    "label = label.drop([0],axis=1)\n",
    "label.columns = ['est'] #estimulo"
   ]
  },
  {
   "cell_type": "code",
   "execution_count": 84,
   "metadata": {},
   "outputs": [
    {
     "name": "stdout",
     "output_type": "stream",
     "text": [
      "23.0\n"
     ]
    },
    {
     "data": {
      "text/html": [
       "<div>\n",
       "<style scoped>\n",
       "    .dataframe tbody tr th:only-of-type {\n",
       "        vertical-align: middle;\n",
       "    }\n",
       "\n",
       "    .dataframe tbody tr th {\n",
       "        vertical-align: top;\n",
       "    }\n",
       "\n",
       "    .dataframe thead th {\n",
       "        text-align: right;\n",
       "    }\n",
       "</style>\n",
       "<table border=\"1\" class=\"dataframe\">\n",
       "  <thead>\n",
       "    <tr style=\"text-align: right;\">\n",
       "      <th></th>\n",
       "      <th>est</th>\n",
       "    </tr>\n",
       "  </thead>\n",
       "  <tbody>\n",
       "    <tr>\n",
       "      <th>0</th>\n",
       "      <td>1.0</td>\n",
       "    </tr>\n",
       "    <tr>\n",
       "      <th>1</th>\n",
       "      <td>1.0</td>\n",
       "    </tr>\n",
       "    <tr>\n",
       "      <th>2</th>\n",
       "      <td>1.0</td>\n",
       "    </tr>\n",
       "    <tr>\n",
       "      <th>3</th>\n",
       "      <td>1.0</td>\n",
       "    </tr>\n",
       "    <tr>\n",
       "      <th>4</th>\n",
       "      <td>1.0</td>\n",
       "    </tr>\n",
       "  </tbody>\n",
       "</table>\n",
       "</div>"
      ],
      "text/plain": [
       "   est\n",
       "0  1.0\n",
       "1  1.0\n",
       "2  1.0\n",
       "3  1.0\n",
       "4  1.0"
      ]
     },
     "execution_count": 84,
     "metadata": {},
     "output_type": "execute_result"
    }
   ],
   "source": [
    "print(label['est'][1379])\n",
    "label.head()"
   ]
  },
  {
   "cell_type": "markdown",
   "metadata": {},
   "source": [
    "Con estos cambios se obtienen:\n",
    "\n",
    "**data** de dimensiones 1380 x 16 x N : Corresponde a 1380 datos de 16 electrodos, donde cada electrodo tiene N muestras en una serie temporal.\n",
    "\n",
    "**label** de dimension 1380 : Corresponde a la etiqueta del estimulo que generan las señales temporales capturadas en los electrodos."
   ]
  },
  {
   "cell_type": "markdown",
   "metadata": {},
   "source": [
    "**DATA**\n",
    "\n",
    "La data se encuentra distrubuida equitativamente para todos los estímulos, teniendose alrededor de 60 muestras por estímulo, correspondientes a 10 sujetos realizando 6 repeticiones de cada estímulo.\n",
    "\n",
    "No existe desbalance entre clases, por lo que no hace falta aplicar extra procesamiento como undersampling, oversampling o SMOTE."
   ]
  },
  {
   "cell_type": "markdown",
   "metadata": {},
   "source": [
    "##### SEPARANDO LOS DATOS DE CADA ELECTRODO"
   ]
  },
  {
   "cell_type": "code",
   "execution_count": 188,
   "metadata": {},
   "outputs": [],
   "source": [
    "data_e1 = data[:][0]\n",
    "data_e2 = data[:][1]\n",
    "data_e3 = data[:][2]\n",
    "data_e4 = data[:][3]\n",
    "data_e5 = data[:][4]\n",
    "data_e6 = data[:][5]\n",
    "data_e7 = data[:][6]\n",
    "data_e8 = data[:][7]\n",
    "data_e9 = data[:][8]\n",
    "data_e10 = data[:][9]\n",
    "data_e11= data[:][10]\n",
    "data_e12 = data[:][11]\n",
    "data_e13 = data[:][12]\n",
    "data_e14 = data[:][13]\n",
    "data_e15 = data[:][14]\n",
    "data_e16 = data[:][15]"
   ]
  },
  {
   "cell_type": "markdown",
   "metadata": {},
   "source": [
    "# 3. FEATURE EXTRACTION"
   ]
  },
  {
   "cell_type": "markdown",
   "metadata": {},
   "source": [
    "## 3.1. PRIMER SET DE CARACTERÍSTICAS\n",
    "\n",
    "Antes de seguir con las exploraciones, se nececita generar características (features) que representen la señal para poder realizar un análisis. Primero, vamos a definir las características que seran evaluadas"
   ]
  },
  {
   "cell_type": "markdown",
   "metadata": {},
   "source": [
    "##### INTEGRATED EMG (IEMG)"
   ]
  },
  {
   "cell_type": "code",
   "execution_count": 88,
   "metadata": {},
   "outputs": [],
   "source": [
    "def iemg(emg):\n",
    "    I=sum(np.abs(emg))\n",
    "    return I"
   ]
  },
  {
   "cell_type": "markdown",
   "metadata": {},
   "source": [
    "##### ZERO CROSSING (ZC)"
   ]
  },
  {
   "cell_type": "code",
   "execution_count": 89,
   "metadata": {},
   "outputs": [],
   "source": [
    "def ZC(emg,umbral):\n",
    "    N=len(emg)\n",
    "    product=np.multiply(emg[0:N-1],emg[1:N])\n",
    "    dif=np.abs(emg[0:N-1]-emg[1:N])\n",
    "    s=0\n",
    "    for i in range(N-1):\n",
    "        sgn=0\n",
    "        dif_cond=0\n",
    "        if(product[i]>=umbral):\n",
    "            sgn=1\n",
    "        if(dif[i]>=umbral):\n",
    "            dif_cond=1\n",
    "        s = s + (sgn*dif_cond)\n",
    "    return s"
   ]
  },
  {
   "cell_type": "markdown",
   "metadata": {},
   "source": [
    "##### WAVEFORM LENGTH (WL)"
   ]
  },
  {
   "cell_type": "code",
   "execution_count": 90,
   "metadata": {},
   "outputs": [],
   "source": [
    "def WL(emg):\n",
    "    N=len(emg)\n",
    "    dif=emg[1:N]-emg[0:N-1]\n",
    "    wl=sum(np.abs(dif))\n",
    "    return wl"
   ]
  },
  {
   "cell_type": "markdown",
   "metadata": {},
   "source": [
    "##### WILLISON AMPLITUDE (WAMP)"
   ]
  },
  {
   "cell_type": "code",
   "execution_count": 91,
   "metadata": {},
   "outputs": [],
   "source": [
    "def WAMP(emg,umbral):\n",
    "    N=len(emg)\n",
    "    dif=emg[1:N]-emg[0:N-1]\n",
    "    dif_abs=np.abs(dif)\n",
    "    s=0\n",
    "    for i in range(N-1):\n",
    "        if (dif_abs[i]>= umbral):\n",
    "            s=s+1\n",
    "    return s"
   ]
  },
  {
   "cell_type": "markdown",
   "metadata": {},
   "source": [
    "##### MEAN ABSOLUTE VALUE (MAV)"
   ]
  },
  {
   "cell_type": "code",
   "execution_count": 92,
   "metadata": {},
   "outputs": [],
   "source": [
    "def mav(emg):\n",
    "    N=len(emg)\n",
    "    mav=(1/N)*sum(np.abs(emg))\n",
    "    return mav"
   ]
  },
  {
   "cell_type": "markdown",
   "metadata": {},
   "source": [
    "##### VARIANCE OF EMG (VAR)"
   ]
  },
  {
   "cell_type": "code",
   "execution_count": 93,
   "metadata": {},
   "outputs": [],
   "source": [
    "def VAR(emg):\n",
    "    N=len(emg)\n",
    "    var=(1/(N-1))*sum(np.abs(emg)*np.abs(emg))\n",
    "    return var"
   ]
  },
  {
   "cell_type": "markdown",
   "metadata": {},
   "source": [
    "##### ROOT MEAN SQUARE (RMS)"
   ]
  },
  {
   "cell_type": "code",
   "execution_count": 94,
   "metadata": {},
   "outputs": [],
   "source": [
    "def RMS(emg):\n",
    "    N=len(emg)\n",
    "    rms=np.sqrt((1/N)*sum(np.abs(emg)*np.abs(emg)))\n",
    "    return rms"
   ]
  },
  {
   "cell_type": "markdown",
   "metadata": {},
   "source": [
    "##### LOG DETECTOR (LOG)"
   ]
  },
  {
   "cell_type": "code",
   "execution_count": 95,
   "metadata": {},
   "outputs": [],
   "source": [
    "def LOG(emg):\n",
    "    N=len(emg)\n",
    "    suma=sum(np.log(np.abs(emg)))\n",
    "    LOG=np.exp(suma/N)\n",
    "    return LOG"
   ]
  },
  {
   "cell_type": "markdown",
   "metadata": {},
   "source": [
    "##### SLOPE SIGN CHANGE (SSC)"
   ]
  },
  {
   "cell_type": "code",
   "execution_count": 96,
   "metadata": {},
   "outputs": [],
   "source": [
    "def SSC(emg,umbral):\n",
    "    N=len(emg)\n",
    "    dif1=emg[1:N-1]-emg[0:N-2]\n",
    "    dif2=emg[1:N-1]-emg[2:N]\n",
    "    product=np.multiply(dif1,dif2)\n",
    "    s=0\n",
    "    for i in range(N-2):\n",
    "        if (product[i]>= umbral):\n",
    "            s=s+1\n",
    "    return s"
   ]
  },
  {
   "cell_type": "markdown",
   "metadata": {},
   "source": [
    "##### GENERATE FEATURES "
   ]
  },
  {
   "cell_type": "code",
   "execution_count": 139,
   "metadata": {},
   "outputs": [],
   "source": [
    "def generate_features1(signal,params):\n",
    "    \n",
    "    umbral_zc = params[0]\n",
    "    umbral_wamp = params[1]\n",
    "    umbral_ssc = params[2]\n",
    "    \n",
    "    if isinstance(signal,pd.core.frame.DataFrame):\n",
    "        features = pd.DataFrame()\n",
    "        #Pasar por los 1380 datos\n",
    "        for i in range(len(signal)):\n",
    "            #Acceder a la serie temporal\n",
    "            serie = signal.iloc[i]\n",
    "            k = len(serie)\n",
    "            ftrs = pd.DataFrame([iemg(serie), ZC(serie,umbral_zc), WL(serie), WAMP(serie,umbral_wamp),\n",
    "                                mav(serie), VAR(serie), RMS(serie), LOG(serie), SSC(serie,umbral_ssc)]).T\n",
    "            features = pd.concat([features, ftrs], axis=0, ignore_index = True)\n",
    "    else:\n",
    "        featuers = []\n",
    "        for i in range(len(signal)):\n",
    "            serie = signal.iloc[i]\n",
    "            k = len(serie)\n",
    "            ftrs = [iemg(serie), ZC(serie,umbral_zc), WL(serie), WAMP(serie,umbral_wamp),\n",
    "                                mav(serie), VAR(serie), RMS(serie), LOG(serie), SSC(serie,umbral_ssc)]\n",
    "            features = pd.append(ftrs)\n",
    "    return features"
   ]
  },
  {
   "cell_type": "markdown",
   "metadata": {},
   "source": [
    "##### DEFINIR LOS PARÁMETROS DE ALGUNAS ESTADÍSTICAS (ZC, WAMP, SSC)"
   ]
  },
  {
   "cell_type": "code",
   "execution_count": 137,
   "metadata": {},
   "outputs": [],
   "source": [
    "params = [0,0,0]"
   ]
  },
  {
   "cell_type": "code",
   "execution_count": 189,
   "metadata": {},
   "outputs": [
    {
     "ename": "TypeError",
     "evalue": "ufunc 'absolute' did not contain a loop with signature matching types dtype('<U830') dtype('<U830')",
     "output_type": "error",
     "traceback": [
      "\u001b[1;31m---------------------------------------------------------------------------\u001b[0m",
      "\u001b[1;31mTypeError\u001b[0m                                 Traceback (most recent call last)",
      "\u001b[1;32m<ipython-input-189-8b0d4f986efc>\u001b[0m in \u001b[0;36m<module>\u001b[1;34m\u001b[0m\n\u001b[1;32m----> 1\u001b[1;33m \u001b[0mfeatures_e1\u001b[0m \u001b[1;33m=\u001b[0m \u001b[0mgenerate_features1\u001b[0m\u001b[1;33m(\u001b[0m\u001b[0mdata_e1\u001b[0m\u001b[1;33m,\u001b[0m\u001b[0mparams\u001b[0m\u001b[1;33m)\u001b[0m\u001b[1;33m\u001b[0m\u001b[1;33m\u001b[0m\u001b[0m\n\u001b[0m",
      "\u001b[1;32m<ipython-input-139-07cd8345c86c>\u001b[0m in \u001b[0;36mgenerate_features1\u001b[1;34m(signal, params)\u001b[0m\n\u001b[0;32m     20\u001b[0m             \u001b[0mserie\u001b[0m \u001b[1;33m=\u001b[0m \u001b[0msignal\u001b[0m\u001b[1;33m.\u001b[0m\u001b[0miloc\u001b[0m\u001b[1;33m[\u001b[0m\u001b[0mi\u001b[0m\u001b[1;33m]\u001b[0m\u001b[1;33m\u001b[0m\u001b[1;33m\u001b[0m\u001b[0m\n\u001b[0;32m     21\u001b[0m             \u001b[0mk\u001b[0m \u001b[1;33m=\u001b[0m \u001b[0mlen\u001b[0m\u001b[1;33m(\u001b[0m\u001b[0mserie\u001b[0m\u001b[1;33m)\u001b[0m\u001b[1;33m\u001b[0m\u001b[1;33m\u001b[0m\u001b[0m\n\u001b[1;32m---> 22\u001b[1;33m             ftrs = [iemg(serie), ZC(serie,umbral_zc), WL(serie), WAMP(serie,umbral_wamp),\n\u001b[0m\u001b[0;32m     23\u001b[0m                                 mav(serie), VAR(serie), RMS(serie), LOG(serie), SSC(serie,umbral_ssc)]\n\u001b[0;32m     24\u001b[0m             \u001b[0mfeatures\u001b[0m \u001b[1;33m=\u001b[0m \u001b[0mpd\u001b[0m\u001b[1;33m.\u001b[0m\u001b[0mappend\u001b[0m\u001b[1;33m(\u001b[0m\u001b[0mftrs\u001b[0m\u001b[1;33m)\u001b[0m\u001b[1;33m\u001b[0m\u001b[1;33m\u001b[0m\u001b[0m\n",
      "\u001b[1;32m<ipython-input-88-baffee7a7645>\u001b[0m in \u001b[0;36miemg\u001b[1;34m(emg)\u001b[0m\n\u001b[0;32m      1\u001b[0m \u001b[1;32mdef\u001b[0m \u001b[0miemg\u001b[0m\u001b[1;33m(\u001b[0m\u001b[0memg\u001b[0m\u001b[1;33m)\u001b[0m\u001b[1;33m:\u001b[0m\u001b[1;33m\u001b[0m\u001b[1;33m\u001b[0m\u001b[0m\n\u001b[1;32m----> 2\u001b[1;33m     \u001b[0mI\u001b[0m\u001b[1;33m=\u001b[0m\u001b[0msum\u001b[0m\u001b[1;33m(\u001b[0m\u001b[0mnp\u001b[0m\u001b[1;33m.\u001b[0m\u001b[0mabs\u001b[0m\u001b[1;33m(\u001b[0m\u001b[0memg\u001b[0m\u001b[1;33m)\u001b[0m\u001b[1;33m)\u001b[0m\u001b[1;33m\u001b[0m\u001b[1;33m\u001b[0m\u001b[0m\n\u001b[0m\u001b[0;32m      3\u001b[0m     \u001b[1;32mreturn\u001b[0m \u001b[0mI\u001b[0m\u001b[1;33m\u001b[0m\u001b[1;33m\u001b[0m\u001b[0m\n",
      "\u001b[1;31mTypeError\u001b[0m: ufunc 'absolute' did not contain a loop with signature matching types dtype('<U830') dtype('<U830')"
     ]
    }
   ],
   "source": [
    "features_e1 = generate_features1(data_e1,params)"
   ]
  },
  {
   "cell_type": "code",
   "execution_count": 198,
   "metadata": {},
   "outputs": [],
   "source": [
    "data_e1_1 = pd.DataFrame([data_e1[0]])"
   ]
  }
 ],
 "metadata": {
  "kernelspec": {
   "display_name": "Python 3",
   "language": "python",
   "name": "python3"
  },
  "language_info": {
   "codemirror_mode": {
    "name": "ipython",
    "version": 3
   },
   "file_extension": ".py",
   "mimetype": "text/x-python",
   "name": "python",
   "nbconvert_exporter": "python",
   "pygments_lexer": "ipython3",
   "version": "3.6.8"
  }
 },
 "nbformat": 4,
 "nbformat_minor": 2
}
