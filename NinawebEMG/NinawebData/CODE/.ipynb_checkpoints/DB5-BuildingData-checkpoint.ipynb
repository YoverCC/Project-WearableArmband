{
 "cells": [
  {
   "cell_type": "markdown",
   "metadata": {},
   "source": [
    "# LECTURA DE DATOS DE LA SEÑAL EMG - DATABASE 5 NINAWEB (MYO THALMIC DOUBLE CONFIGURATION)"
   ]
  },
  {
   "cell_type": "code",
   "execution_count": 1,
   "metadata": {},
   "outputs": [],
   "source": [
    "import pandas as pd\n",
    "import numpy as np\n",
    "import scipy.io\n",
    "import warnings\n",
    "warnings.filterwarnings('ignore')\n",
    "import matplotlib.pyplot as plt\n",
    "from LibData import *"
   ]
  },
  {
   "cell_type": "markdown",
   "metadata": {},
   "source": [
    "La data corresponde a 10 sujetos sanos, cada sujeto efectua distintos conjuntos de ejercicios (E1,E2,E3). Por cada ejercicio del conjunto se efectuan 6 repeticiones."
   ]
  },
  {
   "cell_type": "code",
   "execution_count": 2,
   "metadata": {},
   "outputs": [],
   "source": [
    "PATH=r'C:\\Users\\LIIAARC LAPTOP - 02\\Desktop\\CodeTemporal\\NinawebData'"
   ]
  },
  {
   "cell_type": "code",
   "execution_count": 3,
   "metadata": {},
   "outputs": [],
   "source": [
    "data1=scipy.io.loadmat(PATH+'\\s1\\s1\\S1_E3_A1')\n",
    "data2=scipy.io.loadmat(PATH+'\\s2\\s2\\S2_E3_A1')\n",
    "data3=scipy.io.loadmat(PATH+'\\s3\\s3\\S3_E3_A1')\n",
    "data4=scipy.io.loadmat(PATH+'\\s4\\s4\\S4_E3_A1')\n",
    "data5=scipy.io.loadmat(PATH+'\\s5\\s5\\S5_E3_A1')\n",
    "data6=scipy.io.loadmat(PATH+'\\s6\\s6\\S6_E3_A1')\n",
    "data7=scipy.io.loadmat(PATH+'\\s7\\s7\\S7_E3_A1')\n",
    "data8=scipy.io.loadmat(PATH+'\\s8\\s8\\S8_E3_A1')\n",
    "data9=scipy.io.loadmat(PATH+'\\s9\\s9\\S9_E3_A1')\n",
    "data10=scipy.io.loadmat(PATH+'\\s10\\s10\\S10_E3_A1')"
   ]
  },
  {
   "cell_type": "code",
   "execution_count": 4,
   "metadata": {},
   "outputs": [],
   "source": [
    "emg_signal1=pd.DataFrame(data1[\"emg\"])\n",
    "emg_signal2=pd.DataFrame(data2[\"emg\"])\n",
    "emg_signal3=pd.DataFrame(data3[\"emg\"])\n",
    "emg_signal4=pd.DataFrame(data4[\"emg\"])\n",
    "emg_signal5=pd.DataFrame(data5[\"emg\"])\n",
    "emg_signal6=pd.DataFrame(data6[\"emg\"])\n",
    "emg_signal7=pd.DataFrame(data7[\"emg\"])\n",
    "emg_signal8=pd.DataFrame(data8[\"emg\"])\n",
    "emg_signal9=pd.DataFrame(data9[\"emg\"])\n",
    "emg_signal10=pd.DataFrame(data10[\"emg\"])\n",
    "estimulos1=pd.DataFrame(data1[\"stimulus\"])\n",
    "estimulos2=pd.DataFrame(data2[\"stimulus\"])\n",
    "estimulos3=pd.DataFrame(data3[\"stimulus\"])\n",
    "estimulos4=pd.DataFrame(data4[\"stimulus\"])\n",
    "estimulos5=pd.DataFrame(data5[\"stimulus\"])\n",
    "estimulos6=pd.DataFrame(data6[\"stimulus\"])\n",
    "estimulos7=pd.DataFrame(data7[\"stimulus\"])\n",
    "estimulos8=pd.DataFrame(data8[\"stimulus\"])\n",
    "estimulos9=pd.DataFrame(data9[\"stimulus\"])\n",
    "estimulos10=pd.DataFrame(data10[\"stimulus\"])\n",
    "restimulos1=pd.DataFrame(data1[\"restimulus\"])\n",
    "restimulos2=pd.DataFrame(data2[\"restimulus\"])\n",
    "restimulos3=pd.DataFrame(data3[\"restimulus\"])\n",
    "restimulos4=pd.DataFrame(data4[\"restimulus\"])\n",
    "restimulos5=pd.DataFrame(data5[\"restimulus\"])\n",
    "restimulos6=pd.DataFrame(data6[\"restimulus\"])\n",
    "restimulos7=pd.DataFrame(data7[\"restimulus\"])\n",
    "restimulos8=pd.DataFrame(data8[\"restimulus\"])\n",
    "restimulos9=pd.DataFrame(data9[\"restimulus\"])\n",
    "restimulos10=pd.DataFrame(data10[\"restimulus\"])\n",
    "repetition1=pd.DataFrame(data1[\"repetition\"])\n",
    "repetition2=pd.DataFrame(data2[\"repetition\"])\n",
    "repetition3=pd.DataFrame(data3[\"repetition\"])\n",
    "repetition4=pd.DataFrame(data4[\"repetition\"])\n",
    "repetition5=pd.DataFrame(data5[\"repetition\"])\n",
    "repetition6=pd.DataFrame(data6[\"repetition\"])\n",
    "repetition7=pd.DataFrame(data7[\"repetition\"])\n",
    "repetition8=pd.DataFrame(data8[\"repetition\"])\n",
    "repetition9=pd.DataFrame(data9[\"repetition\"])\n",
    "repetition10=pd.DataFrame(data10[\"repetition\"])\n",
    "rerepetition1=pd.DataFrame(data1[\"rerepetition\"])\n",
    "rerepetition2=pd.DataFrame(data2[\"rerepetition\"])\n",
    "rerepetition3=pd.DataFrame(data3[\"rerepetition\"])\n",
    "rerepetition4=pd.DataFrame(data4[\"rerepetition\"])\n",
    "rerepetition5=pd.DataFrame(data5[\"rerepetition\"])\n",
    "rerepetition6=pd.DataFrame(data6[\"rerepetition\"])\n",
    "rerepetition7=pd.DataFrame(data7[\"rerepetition\"])\n",
    "rerepetition8=pd.DataFrame(data8[\"rerepetition\"])\n",
    "rerepetition9=pd.DataFrame(data9[\"rerepetition\"])\n",
    "rerepetition10=pd.DataFrame(data10[\"rerepetition\"])"
   ]
  },
  {
   "cell_type": "markdown",
   "metadata": {},
   "source": [
    "Colocando las señales capturadas de cada electrodo en una lista, son en total 16 electrodos (8 banda superior, 8 banda inferior)\n",
    "\n",
    "Las señales contienen muestras de 12 ejercicios, con 6 repeticiones para cada ejercicio y además cada uno con su periodo de reposo."
   ]
  },
  {
   "cell_type": "code",
   "execution_count": 5,
   "metadata": {},
   "outputs": [],
   "source": [
    "# Poniendo en una lista los elementos de cada electrodo por cada señal capturada\n",
    "emg_signal_1=[]\n",
    "emg_signal_2=[]\n",
    "emg_signal_3=[]\n",
    "emg_signal_4=[]\n",
    "emg_signal_5=[]\n",
    "emg_signal_6=[]\n",
    "emg_signal_7=[]\n",
    "emg_signal_8=[]\n",
    "emg_signal_9=[]\n",
    "emg_signal_10=[]\n",
    "for i in range(16):\n",
    "    emg_signal_1.append(emg_signal1[i])\n",
    "    emg_signal_2.append(emg_signal2[i])\n",
    "    emg_signal_3.append(emg_signal3[i])\n",
    "    emg_signal_4.append(emg_signal4[i])\n",
    "    emg_signal_5.append(emg_signal5[i])\n",
    "    emg_signal_6.append(emg_signal6[i])\n",
    "    emg_signal_7.append(emg_signal7[i])\n",
    "    emg_signal_8.append(emg_signal8[i])\n",
    "    emg_signal_9.append(emg_signal9[i])\n",
    "    emg_signal_10.append(emg_signal10[i])"
   ]
  },
  {
   "cell_type": "markdown",
   "metadata": {},
   "source": [
    "## GENERACIÓN DE LA DATA PARTICIONADA"
   ]
  },
  {
   "cell_type": "markdown",
   "metadata": {},
   "source": [
    "Listas de los electrodos para almacenarlos en un archivo"
   ]
  },
  {
   "cell_type": "code",
   "execution_count": 6,
   "metadata": {},
   "outputs": [],
   "source": [
    "emg_est1_elect=[]\n",
    "emg_est2_elect=[]\n",
    "emg_est3_elect=[]\n",
    "emg_est4_elect=[]\n",
    "emg_est5_elect=[]\n",
    "emg_est6_elect=[]\n",
    "emg_est7_elect=[]\n",
    "emg_est8_elect=[]\n",
    "emg_est9_elect=[]\n",
    "emg_est10_elect=[]"
   ]
  },
  {
   "cell_type": "markdown",
   "metadata": {},
   "source": [
    "### PROCESO PARA UN SOLO SUJETO"
   ]
  },
  {
   "cell_type": "code",
   "execution_count": 7,
   "metadata": {},
   "outputs": [],
   "source": [
    "emg = emg_signal_1"
   ]
  },
  {
   "cell_type": "code",
   "execution_count": 8,
   "metadata": {},
   "outputs": [],
   "source": [
    "indices = est_ind(estimulos1)"
   ]
  },
  {
   "cell_type": "code",
   "execution_count": 9,
   "metadata": {},
   "outputs": [],
   "source": [
    "# PARA UN ELECTRODO\n",
    "emg_by_est = signal_stimulus(emg[0],indices)"
   ]
  },
  {
   "cell_type": "code",
   "execution_count": 10,
   "metadata": {},
   "outputs": [
    {
     "data": {
      "image/png": "[encoded data removed]",
      "text/plain": [
       "<Figure size 432x288 with 1 Axes>"
      ]
     },
     "metadata": {
      "needs_background": "light"
     },
     "output_type": "display_data"
    }
   ],
   "source": [
    "plt.plot(emg_by_est[22]);"
   ]
  },
  {
   "cell_type": "code",
   "execution_count": 11,
   "metadata": {},
   "outputs": [],
   "source": [
    "emg_by_est = signaltotal_by_est(emg_signal_1,estimulos1)"
   ]
  },
  {
   "cell_type": "code",
   "execution_count": 12,
   "metadata": {},
   "outputs": [
    {
     "name": "stdout",
     "output_type": "stream",
     "text": [
      "El número de electrodos de la señal es: 16 \n",
      "El número de estímulos es: 23 \n",
      "\n"
     ]
    }
   ],
   "source": [
    "print(\"El número de electrodos de la señal es:\",len(emg_by_est),\"\\nEl número de estímulos es:\",len(emg_by_est[0]),\"\\n\")"
   ]
  },
  {
   "cell_type": "markdown",
   "metadata": {},
   "source": [
    "### GENERANDO LA SEPARACIÓN PARA TODOS SUJETOS\n",
    "\n",
    "Se tiene como resultado una lista que contiene 16 elementos (16 electrodos), donde cada elemento contiene señales temporales de 23 estimulos"
   ]
  },
  {
   "cell_type": "code",
   "execution_count": 13,
   "metadata": {},
   "outputs": [],
   "source": [
    "emg_by_est1 = signaltotal_by_est(emg_signal_1,estimulos1)\n",
    "emg_by_est2 = signaltotal_by_est(emg_signal_2,estimulos2)\n",
    "emg_by_est3 = signaltotal_by_est(emg_signal_3,estimulos3)\n",
    "emg_by_est4 = signaltotal_by_est(emg_signal_4,estimulos4)\n",
    "emg_by_est5 = signaltotal_by_est(emg_signal_5,estimulos5)\n",
    "emg_by_est6 = signaltotal_by_est(emg_signal_6,estimulos6)\n",
    "emg_by_est7 = signaltotal_by_est(emg_signal_7,estimulos7)\n",
    "emg_by_est8 = signaltotal_by_est(emg_signal_8,estimulos8)\n",
    "emg_by_est9 = signaltotal_by_est(emg_signal_9,estimulos9)\n",
    "emg_by_est10 = signaltotal_by_est(emg_signal_10,estimulos10)"
   ]
  },
  {
   "cell_type": "code",
   "execution_count": 14,
   "metadata": {},
   "outputs": [],
   "source": [
    "emg_by_est_total = []\n",
    "emg_by_est_total.append(emg_by_est1) # Dimension 10x16x23\n",
    "emg_by_est_total.append(emg_by_est2)\n",
    "emg_by_est_total.append(emg_by_est3)\n",
    "emg_by_est_total.append(emg_by_est4)\n",
    "emg_by_est_total.append(emg_by_est5)\n",
    "emg_by_est_total.append(emg_by_est6)\n",
    "emg_by_est_total.append(emg_by_est7)\n",
    "emg_by_est_total.append(emg_by_est8)\n",
    "emg_by_est_total.append(emg_by_est9)\n",
    "emg_by_est_total.append(emg_by_est10)"
   ]
  },
  {
   "cell_type": "code",
   "execution_count": 15,
   "metadata": {},
   "outputs": [
    {
     "data": {
      "text/plain": [
       "[<matplotlib.lines.Line2D at 0x1ab17f31438>]"
      ]
     },
     "execution_count": 15,
     "metadata": {},
     "output_type": "execute_result"
    },
    {
     "data": {
      "image/png": "[encoded data removed]",
      "text/plain": [
       "<Figure size 432x288 with 1 Axes>"
      ]
     },
     "metadata": {
      "needs_background": "light"
     },
     "output_type": "display_data"
    }
   ],
   "source": [
    "plt.plot(emg_by_est_total[1][0][1])"
   ]
  },
  {
   "cell_type": "code",
   "execution_count": 16,
   "metadata": {},
   "outputs": [
    {
     "name": "stdout",
     "output_type": "stream",
     "text": [
      "El número de sujetos: 10 \n",
      "El número de electrodos de la señal es: 16 \n",
      "El número de estímulos es: 23 \n",
      "\n"
     ]
    }
   ],
   "source": [
    "print(\"El número de sujetos:\",len(emg_by_est_total),\"\\nEl número de electrodos de la señal es:\",len(emg_by_est_total[0]),\"\\nEl número de estímulos es:\",len(emg_by_est_total[0][0]),\"\\n\")"
   ]
  },
  {
   "cell_type": "code",
   "execution_count": 17,
   "metadata": {},
   "outputs": [],
   "source": [
    "rep_est_1=rep_by_est(estimulos1,repetition1) # Dimension 1x23\n",
    "rep_est_2=rep_by_est(estimulos2,repetition2)\n",
    "rep_est_3=rep_by_est(estimulos3,repetition3)\n",
    "rep_est_4=rep_by_est(estimulos4,repetition4)\n",
    "rep_est_5=rep_by_est(estimulos5,repetition5)\n",
    "rep_est_6=rep_by_est(estimulos6,repetition6)\n",
    "rep_est_7=rep_by_est(estimulos7,repetition7)\n",
    "rep_est_8=rep_by_est(estimulos8,repetition8)\n",
    "rep_est_9=rep_by_est(estimulos9,repetition9)\n",
    "rep_est_10=rep_by_est(estimulos10,repetition10)\n",
    "rep_est_total = []\n",
    "rep_est_total.append(rep_est_1)\n",
    "rep_est_total.append(rep_est_2)\n",
    "rep_est_total.append(rep_est_3)\n",
    "rep_est_total.append(rep_est_4)\n",
    "rep_est_total.append(rep_est_5)\n",
    "rep_est_total.append(rep_est_6)\n",
    "rep_est_total.append(rep_est_7)\n",
    "rep_est_total.append(rep_est_8)\n",
    "rep_est_total.append(rep_est_9)\n",
    "rep_est_total.append(rep_est_10)"
   ]
  },
  {
   "cell_type": "code",
   "execution_count": 18,
   "metadata": {},
   "outputs": [
    {
     "data": {
      "text/plain": [
       "[<matplotlib.lines.Line2D at 0x1ab17ff5860>]"
      ]
     },
     "execution_count": 18,
     "metadata": {},
     "output_type": "execute_result"
    },
    {
     "data": {
      "image/png": "[encoded data removed]",
      "text/plain": [
       "<Figure size 432x288 with 1 Axes>"
      ]
     },
     "metadata": {
      "needs_background": "light"
     },
     "output_type": "display_data"
    }
   ],
   "source": [
    "plt.plot(rep_est_total[1][1])"
   ]
  },
  {
   "cell_type": "code",
   "execution_count": 19,
   "metadata": {},
   "outputs": [],
   "source": [
    "emg_est_elect_1=[]\n",
    "emg_est_elect_2=[]\n",
    "emg_est_elect_3=[]\n",
    "emg_est_elect_4=[]\n",
    "emg_est_elect_5=[]\n",
    "emg_est_elect_6=[]\n",
    "emg_est_elect_7=[]\n",
    "emg_est_elect_8=[]\n",
    "emg_est_elect_9=[]\n",
    "emg_est_elect_10=[]\n",
    "emg_est_elect_11=[]\n",
    "emg_est_elect_12=[]\n",
    "emg_est_elect_13=[]\n",
    "emg_est_elect_14=[]\n",
    "emg_est_elect_15=[]\n",
    "emg_est_elect_16=[]"
   ]
  },
  {
   "cell_type": "code",
   "execution_count": 20,
   "metadata": {},
   "outputs": [],
   "source": [
    "num_rep=6\n",
    "num_elect=1\n",
    "for i in range(len(emg_by_est_total[0][0])): # Pasar por cada estimulo\n",
    "    for j in range(len(emg_by_est_total)): # Pasar por cada sujeto\n",
    "        emg_est = emg_by_est_total[j][num_elect-1][i]\n",
    "        rep_est = rep_est_total[j][i]\n",
    "        emg_sep = signal_separate(emg_est,rep_est,num_rep)\n",
    "        for r in range(num_rep):\n",
    "            emg_est_elect_1.append(emg_sep[r])\n"
   ]
  },
  {
   "cell_type": "code",
   "execution_count": 21,
   "metadata": {},
   "outputs": [
    {
     "data": {
      "text/plain": [
       "1380"
      ]
     },
     "execution_count": 21,
     "metadata": {},
     "output_type": "execute_result"
    }
   ],
   "source": [
    "len(emg_est_elect_1)"
   ]
  },
  {
   "cell_type": "code",
   "execution_count": 40,
   "metadata": {},
   "outputs": [
    {
     "data": {
      "text/plain": [
       "[<matplotlib.lines.Line2D at 0x1ab22a45ef0>]"
      ]
     },
     "execution_count": 40,
     "metadata": {},
     "output_type": "execute_result"
    },
    {
     "data": {
      "image/png": "[encoded data removed]",
      "text/plain": [
       "<Figure size 432x288 with 1 Axes>"
      ]
     },
     "metadata": {
      "needs_background": "light"
     },
     "output_type": "display_data"
    }
   ],
   "source": [
    "plt.plot(emg_est_elect_1[0])"
   ]
  },
  {
   "cell_type": "markdown",
   "metadata": {},
   "source": [
    "**Algunas notas hasta el momento:**\n",
    "\n",
    "Se genero una lista con 1380 señales correspondientes al electrodo 1, esto esta generado mediante 6 repeticiones de cada estimulo por 10 sujetos por 23 estimulos en total, lo que da como resultado la dimension de 1380 señales."
   ]
  },
  {
   "cell_type": "markdown",
   "metadata": {},
   "source": [
    "### GENERANDO LA LISTA PARA CADA ELECTRODO"
   ]
  },
  {
   "cell_type": "code",
   "execution_count": 41,
   "metadata": {},
   "outputs": [],
   "source": [
    "emg_est_elect_1=[]"
   ]
  },
  {
   "cell_type": "code",
   "execution_count": 42,
   "metadata": {},
   "outputs": [],
   "source": [
    "elect_total=[]\n",
    "elect_total.append(emg_est_elect_1)\n",
    "elect_total.append(emg_est_elect_2)\n",
    "elect_total.append(emg_est_elect_3)\n",
    "elect_total.append(emg_est_elect_4)\n",
    "elect_total.append(emg_est_elect_5)\n",
    "elect_total.append(emg_est_elect_6)\n",
    "elect_total.append(emg_est_elect_7)\n",
    "elect_total.append(emg_est_elect_8)\n",
    "elect_total.append(emg_est_elect_9)\n",
    "elect_total.append(emg_est_elect_10)\n",
    "elect_total.append(emg_est_elect_11)\n",
    "elect_total.append(emg_est_elect_12)\n",
    "elect_total.append(emg_est_elect_13)\n",
    "elect_total.append(emg_est_elect_14)\n",
    "elect_total.append(emg_est_elect_15)\n",
    "elect_total.append(emg_est_elect_16)"
   ]
  },
  {
   "cell_type": "code",
   "execution_count": 43,
   "metadata": {},
   "outputs": [],
   "source": [
    "for e in range(len(elect_total)):\n",
    "    for i in range(len(emg_by_est_total[0][0])): # Pasar por cada estimulo\n",
    "        for j in range(len(emg_by_est_total)): # Pasar por cada sujeto\n",
    "            emg_est = emg_by_est_total[j][e][i]\n",
    "            rep_est = rep_est_total[j][i]\n",
    "            emg_sep = signal_separate(emg_est,rep_est,num_rep)\n",
    "            for r in range(num_rep):\n",
    "                elect_total[e].append(emg_sep[r])"
   ]
  },
  {
   "cell_type": "code",
   "execution_count": 44,
   "metadata": {},
   "outputs": [
    {
     "data": {
      "text/plain": [
       "16"
      ]
     },
     "execution_count": 44,
     "metadata": {},
     "output_type": "execute_result"
    }
   ],
   "source": [
    "len(elect_total)"
   ]
  },
  {
   "cell_type": "code",
   "execution_count": 45,
   "metadata": {},
   "outputs": [
    {
     "data": {
      "text/plain": [
       "1380"
      ]
     },
     "execution_count": 45,
     "metadata": {},
     "output_type": "execute_result"
    }
   ],
   "source": [
    "len(elect_total[15])"
   ]
  },
  {
   "cell_type": "code",
   "execution_count": 47,
   "metadata": {},
   "outputs": [
    {
     "data": {
      "text/plain": [
       "[<matplotlib.lines.Line2D at 0x1ab6fbe69e8>]"
      ]
     },
     "execution_count": 47,
     "metadata": {},
     "output_type": "execute_result"
    },
    {
     "data": {
      "image/png": "[encoded data removed]",
      "text/plain": [
       "<Figure size 432x288 with 1 Axes>"
      ]
     },
     "metadata": {
      "needs_background": "light"
     },
     "output_type": "display_data"
    }
   ],
   "source": [
    "plt.plot(elect_total[15][1378])"
   ]
  },
  {
   "cell_type": "code",
   "execution_count": 49,
   "metadata": {},
   "outputs": [],
   "source": [
    "elect_total_list=pd.DataFrame(elect_total)\n",
    "elect_total_list.to_csv('data_electrodos.csv')"
   ]
  },
  {
   "cell_type": "code",
   "execution_count": null,
   "metadata": {},
   "outputs": [],
   "source": []
  }
 ],
 "metadata": {
  "kernelspec": {
   "display_name": "Python 3",
   "language": "python",
   "name": "python3"
  },
  "language_info": {
   "codemirror_mode": {
    "name": "ipython",
    "version": 3
   },
   "file_extension": ".py",
   "mimetype": "text/x-python",
   "name": "python",
   "nbconvert_exporter": "python",
   "pygments_lexer": "ipython3",
   "version": "3.6.8"
  }
 },
 "nbformat": 4,
 "nbformat_minor": 2
}
