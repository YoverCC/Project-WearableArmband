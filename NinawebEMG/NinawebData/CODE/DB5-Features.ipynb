{
 "cells": [
  {
   "cell_type": "markdown",
   "metadata": {},
   "source": [
    "# FEATURE EXTRACTION AND SELECTION FOR NINADATA - EMG SIGNAL"
   ]
  },
  {
   "cell_type": "code",
   "execution_count": 1,
   "metadata": {},
   "outputs": [],
   "source": [
    "import pandas as pd\n",
    "import numpy as np\n",
    "import scipy.io\n",
    "import warnings\n",
    "warnings.filterwarnings('ignore')\n",
    "import matplotlib.pyplot as plt"
   ]
  },
  {
   "cell_type": "code",
   "execution_count": 7,
   "metadata": {},
   "outputs": [],
   "source": [
    "data=scipy.io.loadmat(r'C:\\Users\\LIIAARC LAPTOP - 02\\Desktop\\YoverCC\\UNIFIM\\NinawebData\\s1\\s1\\S1_E1_A1')"
   ]
  },
  {
   "cell_type": "code",
   "execution_count": 8,
   "metadata": {},
   "outputs": [
    {
     "data": {
      "text/plain": [
       "{'__header__': b'MATLAB 5.0 MAT-file, Platform: GLNXA64, Created on: Thu Jul 23 16:04:46 2015',\n",
       " '__version__': '1.0',\n",
       " '__globals__': [],\n",
       " 'emg': array([[-22.,  -2., -16., ...,   1.,  -1.,  -2.],\n",
       "        [  5.,  -4., -12., ...,  10.,   2.,   1.],\n",
       "        [ -6.,   1.,   4., ..., -14., -24.,  -3.],\n",
       "        ...,\n",
       "        [ -2.,  -5.,  -4., ...,  -1.,  -1.,  -2.],\n",
       "        [ -8.,   1.,  -1., ...,  -1.,   0.,  -2.],\n",
       "        [ -2.,  -7.,  -4., ...,   0.,   1.,   0.]], dtype=float32),\n",
       " 'acc': array([[ 0.3017578 ,  0.78808594, -0.6669922 ],\n",
       "        [ 0.3017578 ,  0.78808594, -0.6669922 ],\n",
       "        [ 0.3017578 ,  0.78808594, -0.6669922 ],\n",
       "        ...,\n",
       "        [-0.05859375,  0.6850586 , -0.7246094 ],\n",
       "        [-0.05859375,  0.6850586 , -0.7246094 ],\n",
       "        [-0.05859375,  0.6850586 , -0.7246094 ]], dtype=float32),\n",
       " 'stimulus': array([[ 0],\n",
       "        [ 0],\n",
       "        [ 0],\n",
       "        ...,\n",
       "        [12],\n",
       "        [12],\n",
       "        [12]], dtype=int8),\n",
       " 'glove': array([[ 81.193825, -25.613   ,  17.336512, ...,  65.75451 ,   2.470584,\n",
       "          24.564764],\n",
       "        [ 81.14722 , -25.613   ,  17.336512, ...,  65.75451 ,   2.470584,\n",
       "          24.564764],\n",
       "        [ 81.10061 , -25.613   ,  17.336512, ...,  65.75451 ,   2.470584,\n",
       "          24.564764],\n",
       "        ...,\n",
       "        [102.96448 , -29.777718,  25.242413, ...,  65.75451 ,  16.588207,\n",
       "           9.317669],\n",
       "        [102.96448 , -29.777718,  25.242413, ...,  65.75451 ,  16.588207,\n",
       "           9.317669],\n",
       "        [102.96448 , -29.777718,  25.242413, ...,  65.75451 ,  16.588207,\n",
       "           9.317669]], dtype=float32),\n",
       " 'subject': array([[1]], dtype=uint8),\n",
       " 'exercise': array([[3]], dtype=uint8),\n",
       " 'repetition': array([[0],\n",
       "        [0],\n",
       "        [0],\n",
       "        ...,\n",
       "        [6],\n",
       "        [6],\n",
       "        [6]], dtype=int8),\n",
       " 'restimulus': array([[0],\n",
       "        [0],\n",
       "        [0],\n",
       "        ...,\n",
       "        [0],\n",
       "        [0],\n",
       "        [0]], dtype=int8),\n",
       " 'rerepetition': array([[1],\n",
       "        [1],\n",
       "        [1],\n",
       "        ...,\n",
       "        [0],\n",
       "        [0],\n",
       "        [0]], dtype=int8),\n",
       " 'age': array([[23]], dtype=uint8),\n",
       " 'circumference': array([[24]], dtype=uint8),\n",
       " 'frequency': array([[200]], dtype=uint8),\n",
       " 'gender': array(['m'], dtype='<U1'),\n",
       " 'height': array([[187]], dtype=uint8),\n",
       " 'weight': array([[67]], dtype=uint8),\n",
       " 'laterality': array(['r'], dtype='<U1'),\n",
       " 'sensor': array(['Double Myo'], dtype='<U10')}"
      ]
     },
     "execution_count": 8,
     "metadata": {},
     "output_type": "execute_result"
    }
   ],
   "source": [
    "data"
   ]
  },
  {
   "cell_type": "code",
   "execution_count": 9,
   "metadata": {},
   "outputs": [],
   "source": [
    "emg_signal=pd.DataFrame(data[\"emg\"])"
   ]
  },
  {
   "cell_type": "code",
   "execution_count": 11,
   "metadata": {},
   "outputs": [],
   "source": [
    "e1=emg_signal[0]\n",
    "e2=emg_signal[1]\n",
    "e3=emg_signal[2]\n",
    "e4=emg_signal[3]\n",
    "e5=emg_signal[4]\n",
    "e6=emg_signal[5]\n",
    "e7=emg_signal[6]\n",
    "e8=emg_signal[7]"
   ]
  },
  {
   "cell_type": "code",
   "execution_count": 12,
   "metadata": {},
   "outputs": [
    {
     "data": {
      "text/plain": [
       "[<matplotlib.lines.Line2D at 0x22c4adb3198>]"
      ]
     },
     "execution_count": 12,
     "metadata": {},
     "output_type": "execute_result"
    },
    {
     "data": {
      "image/png": "[encoded data removed]",
      "text/plain": [
       "<Figure size 432x288 with 1 Axes>"
      ]
     },
     "metadata": {
      "needs_background": "light"
     },
     "output_type": "display_data"
    }
   ],
   "source": [
    "plt.plot(e8)"
   ]
  },
  {
   "cell_type": "markdown",
   "metadata": {},
   "source": [
    "## PROCESAMIENTO DE LA SEÑAL"
   ]
  },
  {
   "cell_type": "code",
   "execution_count": null,
   "metadata": {},
   "outputs": [],
   "source": []
  }
 ],
 "metadata": {
  "kernelspec": {
   "display_name": "Python 3",
   "language": "python",
   "name": "python3"
  },
  "language_info": {
   "codemirror_mode": {
    "name": "ipython",
    "version": 3
   },
   "file_extension": ".py",
   "mimetype": "text/x-python",
   "name": "python",
   "nbconvert_exporter": "python",
   "pygments_lexer": "ipython3",
   "version": "3.6.8"
  }
 },
 "nbformat": 4,
 "nbformat_minor": 2
}
